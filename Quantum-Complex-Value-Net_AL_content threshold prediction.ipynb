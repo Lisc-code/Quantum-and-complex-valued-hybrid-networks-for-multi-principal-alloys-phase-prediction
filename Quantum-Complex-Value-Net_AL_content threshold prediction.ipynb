{
 "cells": [
  {
   "cell_type": "code",
   "execution_count": null,
   "outputs": [],
   "source": [
    "\n",
    "import numpy as np\n",
    "import pandas as pd\n",
    "import torch.nn as nn\n",
    "import torch.nn.functional as F\n",
    "from complexPyTorch.complexLayers import ComplexLinear\n",
    "import torch\n",
    "from torch.utils.data import DataLoader, TensorDataset\n",
    "import pennylane as qml"
   ],
   "metadata": {
    "collapsed": false,
    "pycharm": {
     "name": "#%%\n"
    }
   }
  },
  {
   "cell_type": "code",
   "execution_count": null,
   "outputs": [],
   "source": [
    "dev = qml.device('default.qubit', wires=6)\n",
    "@qml.qnode(dev)\n",
    "def circuit(weights,input):\n",
    "    weights = weights.view(-1, 6, 3)\n",
    "    qml.AmplitudeEmbedding(features=input,normalize=True, wires=[0,1,2,3,4,5], pad_with=0)\n",
    "    qml.Barrier(wires=range(6), only_visual=True)\n",
    "    qml.StronglyEntanglingLayers(weights,wires=range(6))\n",
    "    return  qml.state()\n",
    "class  ComplexNet(nn.Module):\n",
    "\n",
    "    def __init__(self):\n",
    "        super(ComplexNet,self).__init__()\n",
    "        self.weights = nn.Parameter(torch.randn(1, 6*3), requires_grad=True)\n",
    "        self.com_linear1 =ComplexLinear(64, 128)\n",
    "        self.com_linear2 =ComplexLinear(128, 64)\n",
    "        self.com_linear3 =ComplexLinear(64, 32)\n",
    "        self.com_linear4 =ComplexLinear(32,3)\n",
    "    @staticmethod\n",
    "    def ovonic_complex_relu(input):\n",
    "        zero = torch.tensor(0)\n",
    "        return torch.maximum(input.real, zero).type(torch.complex64) \\\n",
    "               + 1j * torch.maximum(input.imag, zero).type(torch.complex64)\n",
    "    def forward(self, x):\n",
    "        x = circuit(self.weights, x).type(torch.complex64)\n",
    "        x = self.ovonic_complex_relu(self.com_linear1(x))\n",
    "        x = self.ovonic_complex_relu(self.com_linear2(x))\n",
    "        x = self.ovonic_complex_relu(self.com_linear3(x))\n",
    "        x = self.com_linear4(x)\n",
    "        x = (F.log_softmax(x.real, dim=1) +  F.log_softmax(x.imag, dim=1))/2\n",
    "        return x"
   ],
   "metadata": {
    "collapsed": false,
    "pycharm": {
     "name": "#%%\n"
    }
   }
  },
  {
   "cell_type": "code",
   "execution_count": null,
   "outputs": [],
   "source": [
    "k=400\n",
    "epochs = 500\n",
    "batch_size = 256\n",
    "device = torch.device(\"cuda:0\" if torch.cuda.is_available() else \"cpu\")\n",
    "\n",
    "# 设置随机种子\n",
    "\n",
    "\n",
    "with open(\"QCVNN_ceshi_training_metrics.txt\", \"w\") as file:\n",
    "    file.write(\"Fold\\tEpoch\\tTrain Accuracy\\tTrain Loss\\n\")\n",
    "\n",
    "for j in range(k):\n",
    "\n",
    "    train_dataset = pd.read_excel(r'AM_IM除去AlCoCrFeNi1.xlsx')\n",
    "    train_elements_array = np.array(train_dataset.iloc[:,4:47])\n",
    "    train_encoded_labels = np.array(train_dataset['labels_encoder'])\n",
    "\n",
    "    train_set = torch.tensor(train_elements_array, dtype=torch.float32)\n",
    "    train_label = torch.tensor(train_encoded_labels, dtype=torch.long)\n",
    "    train_label_dataset = TensorDataset(train_set, train_label)\n",
    "    train_loader = DataLoader(train_label_dataset, batch_size=batch_size, shuffle=True)\n",
    "\n",
    "    test_dataset_1 = pd.read_csv(r'250个AlCoCrFeNi数据集.CSV')\n",
    "    test_elements_array_1 = np.array(test_dataset_1.iloc[:, 2:])\n",
    "\n",
    "    pred_list_1 = []\n",
    "    pred_list_2 = []\n",
    "    model = ComplexNet().to(device)\n",
    "    optimizer = torch.optim.SGD(model.parameters(), lr=0.01, momentum=0.95)\n",
    "\n",
    "    train_loss_list = []\n",
    "    train_accuracy_list= []\n",
    "\n",
    "    best_train_acc = 0\n",
    "    best_train_loss = 0\n",
    "\n",
    "    for epoch in range(epochs):\n",
    "        train_loss = 0\n",
    "        train_accuracy= 0\n",
    "\n",
    "        avg_train_accuracy = 0\n",
    "        avg_train_loss = 0\n",
    "\n",
    "        for data, target in train_loader:\n",
    "            data, target = data.to(device), target.to(device)\n",
    "            optimizer.zero_grad()\n",
    "            output = model(data)\n",
    "            loss = F.nll_loss(output, target)\n",
    "            # 计算预测结果\n",
    "            preds = torch.argmax(output, dim=1)\n",
    "            # 计算准确率\n",
    "            train_accuracy += (preds == target).sum()\n",
    "            train_loss +=loss.item()\n",
    "            loss.backward()\n",
    "            optimizer.step()\n",
    "        avg_train_accuracy = train_accuracy / len(train_loader.sampler)\n",
    "        avg_train_loss = train_loss/ len(train_loader.sampler)\n",
    "        train_accuracy_list.append(avg_train_accuracy)\n",
    "        train_loss_list.append(avg_train_loss)\n",
    "\n",
    "\n",
    "        if best_train_acc < avg_train_accuracy:\n",
    "            best_train_acc = avg_train_accuracy\n",
    "            best_train_loss = avg_train_loss\n",
    "            if epoch >= epochs-100 or best_train_acc>0.94:\n",
    "                print('save best model best_train_acc',best_train_acc)\n",
    "                torch.save(model.state_dict(), 'QCVNN_model_ceshi_'+'j_'+str(j)+'.pth')\n",
    "        print('Train Epoch:{:3}  accuracy: {:.4f}  Loss: {:.4f}  '.format(\n",
    "                    epoch,\n",
    "                    avg_train_accuracy,\n",
    "                    avg_train_loss,\n",
    "                ))\n",
    "        with open(\"QCVNN_ceshi_training_metrics.txt\", \"a\") as file:\n",
    "            file.write(\"{:3}\\t{:3}\\t{:.4f}\\t\\t{:.4f}\\n\".format(\n",
    "                j, epoch, avg_train_accuracy, avg_train_loss))\n",
    "\n",
    "    print(\" j [%d] Best_Accuracy: %.4f Best_Loss: %.4f\" % (j, best_train_acc, best_train_loss))"
   ],
   "metadata": {
    "collapsed": false,
    "pycharm": {
     "name": "#%%\n"
    }
   }
  },
  {
   "cell_type": "code",
   "execution_count": null,
   "outputs": [],
   "source": [
    "pred_list_1 = []\n",
    "test_dataset_1 = pd.read_csv(r'E:/桌面/250个AlCoCrFeNi数据集.CSV')\n",
    "test_elements_array_1 = np.array(test_dataset_1.iloc[:, 2:])\n",
    "model = ComplexNet()\n",
    "model.load_state_dict(torch.load('E:/桌面/QCVNN_model_Al_content.pth'))\n",
    "model.eval()\n",
    "# 进行预测\n",
    "output_1 = model.forward(test_elements_array_1)\n",
    "y_pred_1 = torch.argmax(output_1, dim=1)\n",
    "pred_list_1.append(y_pred_1)"
   ],
   "metadata": {
    "collapsed": false,
    "pycharm": {
     "name": "#%%\n"
    }
   }
  },
  {
   "cell_type": "code",
   "execution_count": null,
   "outputs": [],
   "source": [],
   "metadata": {
    "collapsed": false,
    "pycharm": {
     "name": "#%%\n"
    }
   }
  },
  {
   "cell_type": "code",
   "execution_count": null,
   "outputs": [],
   "source": [],
   "metadata": {
    "collapsed": false,
    "pycharm": {
     "name": "#%%\n"
    }
   }
  },
  {
   "cell_type": "code",
   "execution_count": null,
   "outputs": [],
   "source": [],
   "metadata": {
    "collapsed": false,
    "pycharm": {
     "name": "#%%\n"
    }
   }
  },
  {
   "cell_type": "code",
   "execution_count": null,
   "outputs": [],
   "source": [],
   "metadata": {
    "collapsed": false,
    "pycharm": {
     "name": "#%%\n"
    }
   }
  },
  {
   "cell_type": "code",
   "execution_count": null,
   "outputs": [],
   "source": [],
   "metadata": {
    "collapsed": false,
    "pycharm": {
     "name": "#%%\n"
    }
   }
  },
  {
   "cell_type": "code",
   "execution_count": null,
   "outputs": [],
   "source": [],
   "metadata": {
    "collapsed": false,
    "pycharm": {
     "name": "#%%\n"
    }
   }
  }
 ],
 "metadata": {
  "kernelspec": {
   "display_name": "Python 3",
   "language": "python",
   "name": "python3"
  },
  "language_info": {
   "codemirror_mode": {
    "name": "ipython",
    "version": 2
   },
   "file_extension": ".py",
   "mimetype": "text/x-python",
   "name": "python",
   "nbconvert_exporter": "python",
   "pygments_lexer": "ipython2",
   "version": "2.7.6"
  }
 },
 "nbformat": 4,
 "nbformat_minor": 0
}