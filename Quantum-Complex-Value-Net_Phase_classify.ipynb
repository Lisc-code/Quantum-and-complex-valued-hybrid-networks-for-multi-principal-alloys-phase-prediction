{
 "cells": [
  {
   "cell_type": "code",
   "execution_count": null,
   "metadata": {
    "collapsed": true,
    "pycharm": {
     "name": "#%%\n"
    }
   },
   "outputs": [],
   "source": [
    "from sklearn.metrics import accuracy_score\n",
    "import numpy as np\n",
    "import pandas as pd\n",
    "import torch.nn as nn\n",
    "import torch.nn.functional as F\n",
    "from complexPyTorch.complexLayers import  ComplexLinear\n",
    "import torch\n",
    "import pennylane as qml\n",
    "from torch.utils.data import DataLoader, TensorDataset"
   ]
  },
  {
   "cell_type": "code",
   "execution_count": null,
   "outputs": [],
   "source": [
    "dev = qml.device('default.qubit', wires=6)\n",
    "@qml.qnode(dev)\n",
    "def circuit(weights,input):\n",
    "    weights = weights.view(-1, 6, 3)\n",
    "    qml.AmplitudeEmbedding(features=input,normalize=True, wires=[0,1,2,3,4,5], pad_with=0)\n",
    "    qml.Barrier(wires=range(6), only_visual=True)\n",
    "    qml.StronglyEntanglingLayers(weights,wires=range(6))\n",
    "    return  qml.state()"
   ],
   "metadata": {
    "collapsed": false,
    "pycharm": {
     "name": "#%%\n"
    }
   }
  },
  {
   "cell_type": "code",
   "execution_count": null,
   "outputs": [],
   "source": [
    "class  ComplexNet(nn.Module):\n",
    "    def __init__(self):\n",
    "        super(ComplexNet,self).__init__()\n",
    "        self.weights = nn.Parameter(torch.randn(1, 6*3), requires_grad=True)\n",
    "        self.com_linear1 =ComplexLinear(64, 128)\n",
    "        self.com_linear2 =ComplexLinear(128, 64)\n",
    "        self.com_linear3 =ComplexLinear(64, 32)\n",
    "        self.com_linear4 =ComplexLinear(32,5)\n",
    "    @staticmethod\n",
    "    def ovonic_complex_relu(input):\n",
    "        zero = torch.tensor(0)\n",
    "        return torch.maximum(input.real, zero).type(torch.complex64) \\\n",
    "               + 1j * torch.maximum(input.imag, zero).type(torch.complex64)\n",
    "    def forward(self, x):\n",
    "        x = circuit(self.weights, x).type(torch.complex64)\n",
    "        x = self.ovonic_complex_relu(self.com_linear1(x))\n",
    "        x = self.ovonic_complex_relu(self.com_linear2(x))\n",
    "        x = self.ovonic_complex_relu(self.com_linear3(x))\n",
    "        x = self.com_linear4(x)\n",
    "        x = (F.log_softmax(x.real, dim=1) +  F.log_softmax(x.imag, dim=1))/2\n",
    "        return x"
   ],
   "metadata": {
    "collapsed": false,
    "pycharm": {
     "name": "#%%\n"
    }
   }
  },
  {
   "cell_type": "code",
   "execution_count": null,
   "outputs": [],
   "source": [
    "k=10\n",
    "epochs = 500\n",
    "batch_size =64\n",
    "device = torch.device(\"cuda:0\" if torch.cuda.is_available() else \"cpu\")\n",
    "\n",
    "with open(\"QCVNN_training_metrics.txt\", \"w\") as file:\n",
    "    file.write(\"Fold\\tEpoch\\tTrain Accuracy\\tTrain Loss\\tVal Accuracy\\tVal Loss\\t\\tTest Accuracy\\tVal Loss\\n\")\n",
    "\n",
    "for fold in range(k):\n",
    "    train_dataset = pd.read_csv(r'X_train_fold_'+str(fold)+'.csv')\n",
    "    val_dataset = pd.read_csv(r'X_val_fold_'+str(fold)+'.csv')\n",
    "    test_dataset = pd.read_csv(r'X_test.csv')\n",
    "\n",
    "    train_elements_array = np.array(train_dataset.iloc[:,4:47])\n",
    "    train_encoded_labels = np.array(train_dataset['labels_encoder'])\n",
    "    val_elements_array = np.array(val_dataset.iloc[:,4:47])\n",
    "    val_encoded_labels = np.array(val_dataset['labels_encoder'])\n",
    "    test_elements_array = np.array(test_dataset.iloc[:,4:47])\n",
    "    test_encoded_labels  = np.array(test_dataset['labels_encoder'])\n",
    "\n",
    "    train_set = torch.tensor(train_elements_array, dtype=torch.float32)\n",
    "    train_label = torch.tensor(train_encoded_labels, dtype=torch.long)\n",
    "    train_label_dataset = TensorDataset(train_set, train_label)\n",
    "    train_loader = DataLoader(train_label_dataset, batch_size=batch_size, shuffle=True)\n",
    "\n",
    "    val_set = torch.tensor(val_elements_array, dtype=torch.float32)\n",
    "    val_label = torch.tensor(val_encoded_labels, dtype=torch.long)\n",
    "    val_label_dataset = TensorDataset(val_set, val_label)\n",
    "    val_loader = DataLoader(val_label_dataset, batch_size=batch_size, shuffle=False)\n",
    "\n",
    "    test_set = torch.tensor(test_elements_array, dtype=torch.float32)\n",
    "    test_label = torch.tensor(test_encoded_labels, dtype=torch.long)\n",
    "    test_label_dataset = TensorDataset(test_set, test_label)\n",
    "    test_loader = DataLoader(test_label_dataset, batch_size=batch_size, shuffle=False)\n",
    "\n",
    "    model = ComplexNet().to(device)\n",
    "    optimizer = torch.optim.SGD(model.parameters(), lr=0.01, momentum=0.95)\n",
    "\n",
    "    train_loss_list = []\n",
    "    train_accuracy_list= []\n",
    "    test_loss_list = []\n",
    "    test_accuracy_list= []\n",
    "    best_test_acc = 0\n",
    "    best_test_loss = 0\n",
    "    for epoch in range(epochs):\n",
    "        train_loss = 0\n",
    "        train_accuracy= 0\n",
    "        avg_train_accuracy = 0\n",
    "        avg_train_loss = 0\n",
    "        test_loss = 0\n",
    "        test_accuracy= 0\n",
    "        avg_test_accuracy = 0\n",
    "        avg_test_loss = 0\n",
    "\n",
    "        for data, target in train_loader:\n",
    "            data, target = data.to(device), target.to(device)\n",
    "            optimizer.zero_grad()\n",
    "            output = model(data)\n",
    "            loss = F.nll_loss(output, target)\n",
    "            # 计算预测结果\n",
    "            preds = torch.argmax(output, dim=1)\n",
    "            # 计算准确率\n",
    "            train_accuracy += (preds == target).sum()\n",
    "            train_loss +=loss.item()\n",
    "            loss.backward()\n",
    "            optimizer.step()\n",
    "\n",
    "        avg_train_accuracy = train_accuracy / len(train_loader.sampler)\n",
    "        avg_train_loss = train_loss/ len(train_loader.sampler)\n",
    "        train_accuracy_list.append(avg_train_accuracy)\n",
    "        train_loss_list.append(avg_train_loss)\n",
    "\n",
    "        model.eval()\n",
    "        for data, target in test_loader:\n",
    "            data, target = data.to(device), target.to(device)\n",
    "            output = model(data)\n",
    "            loss = F.nll_loss(output, target)\n",
    "            preds = torch.argmax(output, dim=1)\n",
    "\n",
    "            test_accuracy += (preds == target).sum()\n",
    "            test_loss +=loss.item()\n",
    "        avg_test_accuracy = test_accuracy / len(test_loader.sampler)\n",
    "        avg_test_loss = test_loss/ len(test_loader.sampler)\n",
    "        test_accuracy_list.append(avg_test_accuracy)\n",
    "        test_loss_list.append(avg_test_loss)\n",
    "\n",
    "        if best_test_acc < avg_test_accuracy:\n",
    "            best_test_acc = avg_test_accuracy\n",
    "            best_test_loss = avg_test_loss\n",
    "            if epoch >= epochs-100 or best_test_acc>0.94:\n",
    "                print('save best model best_test_acc',best_test_acc)\n",
    "                torch.save(model.state_dict(), 'QCVNN_model/model_test_fold_'+str(fold)+'.pth')\n",
    "        print('Fold {:3} Train Epoch:{:3}  accuracy: {:.4f}  Loss: {:.4f}  test accuracy: {:.4f}  Loss: {:.4f}'.format(\n",
    "                    fold,\n",
    "                    epoch,\n",
    "                    avg_train_accuracy,\n",
    "                    avg_train_loss,\n",
    "                    avg_test_accuracy,\n",
    "                    avg_test_loss\n",
    "                ))\n",
    "         # 将指标写入txt文件\n",
    "        with open(\"QCVNN_training_metrics.txt\", \"a\") as file:\n",
    "            file.write(\"{:3}\\t{:3}\\t{:.4f}\\t\\t{:.4f}\\t\\t{:.4f}\\t\\t{:.4f}\\n\".format(\n",
    "                fold, epoch, avg_train_accuracy, avg_train_loss,  avg_test_accuracy, avg_test_loss))\n",
    "    print(\"Fold [%d]  Best_test_Accuracy: %.4f Best_test_Loss: %.4f\" % (fold,  best_test_acc, best_test_loss))"
   ],
   "metadata": {
    "collapsed": false,
    "pycharm": {
     "name": "#%%\n"
    }
   }
  },
  {
   "cell_type": "code",
   "execution_count": null,
   "outputs": [],
   "source": [
    "from sklearn.metrics import  f1_score, recall_score, precision_score\n",
    "from sklearn.metrics import confusion_matrix\n",
    "import torch\n",
    "\n",
    "k=10\n",
    "cm_list=[]\n",
    "acc_list = []\n",
    "f1_list = []\n",
    "recall_list = []\n",
    "precision_list = []\n",
    "class_accuracy_list =[]\n",
    "\n",
    "cm_list_val=[]\n",
    "acc_list_val = []\n",
    "f1_list_val = []\n",
    "recall_list_val = []\n",
    "precision_list_val = []\n",
    "class_accuracy_list_val = []\n",
    "for fold in range(k):\n",
    "\n",
    "\n",
    "    val_dataset = pd.read_csv(r'X_val_fold_'+str(fold)+'.csv')\n",
    "    val_elements_array = np.array(val_dataset.iloc[:,4:47])\n",
    "    val_encoded_labels = np.array(val_dataset['labels_encoder'])\n",
    "\n",
    "\n",
    "\n",
    "    model = ComplexNet()\n",
    "    model.load_state_dict(torch.load('QCVNN_model.pth'))\n",
    "    model.eval()\n",
    "\n",
    "    output = model.forward(val_elements_array)\n",
    "    y_pred = torch.argmax(output, dim=1)\n",
    "     # 计算分类器的准确率\n",
    "    accuracy_val = accuracy_score(val_encoded_labels, y_pred)\n",
    "    f1_val = f1_score(val_encoded_labels, y_pred,average='weighted')\n",
    "    recall_val = recall_score(val_encoded_labels, y_pred,average='weighted')\n",
    "    precision_val = precision_score(val_encoded_labels, y_pred,average='weighted')\n",
    "    cm_val = confusion_matrix(val_encoded_labels, y_pred)\n",
    "\n",
    "    acc_list_val.append(accuracy_val)\n",
    "    f1_list_val.append(f1_val)\n",
    "    recall_list_val.append(recall_val)\n",
    "    precision_list_val.append(precision_val)\n",
    "    cm_list_val.append(cm_val)\n",
    "    # 计算每个类别的准确率\n",
    "    class_accuracy = []\n",
    "    for class_label in range(5):  # num_classes 是类别的数量\n",
    "        # 选出属于当前类别的样本\n",
    "        class_indices = (val_encoded_labels == class_label)\n",
    "        class_samples = val_elements_array[class_indices]\n",
    "        class_labels = val_encoded_labels[class_indices]\n",
    "        # 对当前类别的样本进行预测\n",
    "        class_output = model.forward(class_samples)\n",
    "        class_y_pred = torch.argmax(class_output, dim=1)\n",
    "        # 计算当前类别的准确率\n",
    "        class_accuracy.append( accuracy_score(class_labels, class_y_pred))\n",
    "\n",
    "    print(\"每个类别的准确率:\", class_accuracy)\n",
    "    class_accuracy_list.append(class_accuracy)\n",
    "    print(\"Fold [%d]  Val Accuracy: %.4f  F1: %.4f Recall: %.4f Precision: %ds.4f\" % (fold, accuracy_val,  f1_val, recall_val, precision_val))\n",
    "\n",
    "mean_cm_val = np.array(np.sum(cm_list_val, axis=0) /10)\n",
    "\n",
    "mean_acc_val =  np.mean(acc_list_val)\n",
    "mean_f1_val=  np.mean(f1_list_val)\n",
    "mean_recall_val=   np.mean(recall_list_val)\n",
    "mean_precision_val= np.mean(precision_list_val)\n",
    "mean_class_acc= np.mean(class_accuracy_list,axis=0)\n",
    "\n",
    "\n",
    "print(\"All Fold: Val Mean Accuracy: %.4f  Mean F1: %.4f  Mean Recall: %.4f Mean Precision: %.4f Mean confusion_matrix: %.4f\" % (mean_acc_val, mean_f1_val, mean_recall_val,mean_precision_val,mean_cm_val ))"
   ],
   "metadata": {
    "collapsed": false,
    "pycharm": {
     "name": "#%%\n"
    }
   }
  },
  {
   "cell_type": "code",
   "execution_count": null,
   "outputs": [],
   "source": [],
   "metadata": {
    "collapsed": false,
    "pycharm": {
     "name": "#%%\n"
    }
   }
  },
  {
   "cell_type": "code",
   "execution_count": null,
   "outputs": [],
   "source": [],
   "metadata": {
    "collapsed": false,
    "pycharm": {
     "name": "#%%\n"
    }
   }
  },
  {
   "cell_type": "code",
   "execution_count": null,
   "outputs": [],
   "source": [],
   "metadata": {
    "collapsed": false,
    "pycharm": {
     "name": "#%%\n"
    }
   }
  },
  {
   "cell_type": "code",
   "execution_count": null,
   "outputs": [],
   "source": [],
   "metadata": {
    "collapsed": false,
    "pycharm": {
     "name": "#%%\n"
    }
   }
  },
  {
   "cell_type": "code",
   "execution_count": null,
   "outputs": [],
   "source": [],
   "metadata": {
    "collapsed": false,
    "pycharm": {
     "name": "#%%\n"
    }
   }
  },
  {
   "cell_type": "code",
   "execution_count": null,
   "outputs": [],
   "source": [],
   "metadata": {
    "collapsed": false,
    "pycharm": {
     "name": "#%%\n"
    }
   }
  },
  {
   "cell_type": "code",
   "execution_count": null,
   "outputs": [],
   "source": [],
   "metadata": {
    "collapsed": false,
    "pycharm": {
     "name": "#%%\n"
    }
   }
  },
  {
   "cell_type": "code",
   "execution_count": null,
   "outputs": [],
   "source": [],
   "metadata": {
    "collapsed": false,
    "pycharm": {
     "name": "#%%\n"
    }
   }
  },
  {
   "cell_type": "code",
   "execution_count": null,
   "outputs": [],
   "source": [],
   "metadata": {
    "collapsed": false,
    "pycharm": {
     "name": "#%%\n"
    }
   }
  },
  {
   "cell_type": "code",
   "execution_count": null,
   "outputs": [],
   "source": [],
   "metadata": {
    "collapsed": false,
    "pycharm": {
     "name": "#%%\n"
    }
   }
  },
  {
   "cell_type": "code",
   "execution_count": null,
   "outputs": [],
   "source": [],
   "metadata": {
    "collapsed": false,
    "pycharm": {
     "name": "#%%\n"
    }
   }
  },
  {
   "cell_type": "code",
   "execution_count": null,
   "outputs": [],
   "source": [],
   "metadata": {
    "collapsed": false,
    "pycharm": {
     "name": "#%%\n"
    }
   }
  }
 ],
 "metadata": {
  "kernelspec": {
   "display_name": "Python 3",
   "language": "python",
   "name": "python3"
  },
  "language_info": {
   "codemirror_mode": {
    "name": "ipython",
    "version": 2
   },
   "file_extension": ".py",
   "mimetype": "text/x-python",
   "name": "python",
   "nbconvert_exporter": "python",
   "pygments_lexer": "ipython2",
   "version": "2.7.6"
  }
 },
 "nbformat": 4,
 "nbformat_minor": 0
}